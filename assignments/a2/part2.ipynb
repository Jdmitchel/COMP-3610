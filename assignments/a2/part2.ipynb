{
 "cells": [
  {
   "cell_type": "code",
   "execution_count": 22,
   "metadata": {},
   "outputs": [
    {
     "name": "stdout",
     "output_type": "stream",
     "text": [
      "Requirement already satisfied: imbalanced-learn in c:\\users\\jmitc\\anaconda3\\envs\\assignment\\lib\\site-packages (0.12.0)\n",
      "Requirement already satisfied: numpy>=1.17.3 in c:\\users\\jmitc\\anaconda3\\envs\\assignment\\lib\\site-packages (from imbalanced-learn) (1.26.4)\n",
      "Requirement already satisfied: scipy>=1.5.0 in c:\\users\\jmitc\\anaconda3\\envs\\assignment\\lib\\site-packages (from imbalanced-learn) (1.12.0)\n",
      "Requirement already satisfied: scikit-learn>=1.0.2 in c:\\users\\jmitc\\anaconda3\\envs\\assignment\\lib\\site-packages (from imbalanced-learn) (1.4.1.post1)\n",
      "Requirement already satisfied: joblib>=1.1.1 in c:\\users\\jmitc\\anaconda3\\envs\\assignment\\lib\\site-packages (from imbalanced-learn) (1.3.2)\n",
      "Requirement already satisfied: threadpoolctl>=2.0.0 in c:\\users\\jmitc\\anaconda3\\envs\\assignment\\lib\\site-packages (from imbalanced-learn) (3.3.0)\n"
     ]
    }
   ],
   "source": [
    "!pip install imbalanced-learn"
   ]
  },
  {
   "cell_type": "code",
   "execution_count": 23,
   "metadata": {},
   "outputs": [],
   "source": [
    "import numpy as np\n",
    "import pandas as pd\n",
    "from sklearn.metrics import confusion_matrix, accuracy_score, classification_report, f1_score, precision_score, recall_score, roc_auc_score, roc_curve\n",
    "from sklearn.model_selection import train_test_split, KFold, cross_val_score, GridSearchCV\n",
    "from sklearn.linear_model import LogisticRegression\n",
    "from sklearn.preprocessing import StandardScaler\n",
    "from imblearn.over_sampling import SMOTE\n",
    "from sklearn.decomposition import PCA\n",
    "from sklearn.cluster import KMeans\n",
    "from sklearn.neighbors import KNeighborsClassifier\n",
    "from sklearn.ensemble import RandomForestClassifier\n",
    "import matplotlib.pyplot as plt\n",
    "import seaborn as sns"
   ]
  },
  {
   "cell_type": "markdown",
   "metadata": {},
   "source": [
    "# Part A"
   ]
  },
  {
   "cell_type": "code",
   "execution_count": 24,
   "metadata": {},
   "outputs": [],
   "source": [
    "df = pd.read_csv(\"healthcare_dataset_stroke_data_assignment2_section2.csv\")"
   ]
  },
  {
   "cell_type": "code",
   "execution_count": 25,
   "metadata": {},
   "outputs": [
    {
     "name": "stdout",
     "output_type": "stream",
     "text": [
      "<class 'pandas.core.frame.DataFrame'>\n",
      "RangeIndex: 5110 entries, 0 to 5109\n",
      "Data columns (total 13 columns):\n",
      " #   Column             Non-Null Count  Dtype  \n",
      "---  ------             --------------  -----  \n",
      " 0   Unnamed: 0         5110 non-null   int64  \n",
      " 1   id                 5110 non-null   int64  \n",
      " 2   gender             5110 non-null   object \n",
      " 3   age                5110 non-null   float64\n",
      " 4   hypertension       5110 non-null   int64  \n",
      " 5   heart_disease      5110 non-null   int64  \n",
      " 6   ever_married       5110 non-null   object \n",
      " 7   work_type          4852 non-null   object \n",
      " 8   Residence_type     5110 non-null   object \n",
      " 9   avg_glucose_level  5110 non-null   float64\n",
      " 10  bmi                4909 non-null   float64\n",
      " 11  smoking_status     4863 non-null   object \n",
      " 12  stroke             5110 non-null   int64  \n",
      "dtypes: float64(3), int64(5), object(5)\n",
      "memory usage: 519.1+ KB\n"
     ]
    }
   ],
   "source": [
    "df.info()"
   ]
  },
  {
   "cell_type": "markdown",
   "metadata": {},
   "source": [
    "* Checking for missing data "
   ]
  },
  {
   "cell_type": "code",
   "execution_count": 26,
   "metadata": {},
   "outputs": [
    {
     "data": {
      "text/html": [
       "<div>\n",
       "<style scoped>\n",
       "    .dataframe tbody tr th:only-of-type {\n",
       "        vertical-align: middle;\n",
       "    }\n",
       "\n",
       "    .dataframe tbody tr th {\n",
       "        vertical-align: top;\n",
       "    }\n",
       "\n",
       "    .dataframe thead th {\n",
       "        text-align: right;\n",
       "    }\n",
       "</style>\n",
       "<table border=\"1\" class=\"dataframe\">\n",
       "  <thead>\n",
       "    <tr style=\"text-align: right;\">\n",
       "      <th></th>\n",
       "      <th>Unnamed: 0</th>\n",
       "      <th>id</th>\n",
       "      <th>gender</th>\n",
       "      <th>age</th>\n",
       "      <th>hypertension</th>\n",
       "      <th>heart_disease</th>\n",
       "      <th>ever_married</th>\n",
       "      <th>work_type</th>\n",
       "      <th>Residence_type</th>\n",
       "      <th>avg_glucose_level</th>\n",
       "      <th>bmi</th>\n",
       "      <th>smoking_status</th>\n",
       "      <th>stroke</th>\n",
       "    </tr>\n",
       "  </thead>\n",
       "  <tbody>\n",
       "    <tr>\n",
       "      <th>0</th>\n",
       "      <td>0</td>\n",
       "      <td>9046</td>\n",
       "      <td>Male</td>\n",
       "      <td>67.0</td>\n",
       "      <td>0</td>\n",
       "      <td>1</td>\n",
       "      <td>Yes</td>\n",
       "      <td>Private</td>\n",
       "      <td>Urban</td>\n",
       "      <td>228.69</td>\n",
       "      <td>36.6</td>\n",
       "      <td>formerly smoked</td>\n",
       "      <td>1</td>\n",
       "    </tr>\n",
       "    <tr>\n",
       "      <th>1</th>\n",
       "      <td>1</td>\n",
       "      <td>51676</td>\n",
       "      <td>Female</td>\n",
       "      <td>61.0</td>\n",
       "      <td>0</td>\n",
       "      <td>0</td>\n",
       "      <td>Yes</td>\n",
       "      <td>Self-employed</td>\n",
       "      <td>Rural</td>\n",
       "      <td>202.21</td>\n",
       "      <td>NaN</td>\n",
       "      <td>never smoked</td>\n",
       "      <td>1</td>\n",
       "    </tr>\n",
       "    <tr>\n",
       "      <th>2</th>\n",
       "      <td>2</td>\n",
       "      <td>31112</td>\n",
       "      <td>Male</td>\n",
       "      <td>80.0</td>\n",
       "      <td>0</td>\n",
       "      <td>1</td>\n",
       "      <td>Yes</td>\n",
       "      <td>Private</td>\n",
       "      <td>Rural</td>\n",
       "      <td>105.92</td>\n",
       "      <td>32.5</td>\n",
       "      <td>never smoked</td>\n",
       "      <td>1</td>\n",
       "    </tr>\n",
       "    <tr>\n",
       "      <th>3</th>\n",
       "      <td>3</td>\n",
       "      <td>60182</td>\n",
       "      <td>Female</td>\n",
       "      <td>49.0</td>\n",
       "      <td>0</td>\n",
       "      <td>0</td>\n",
       "      <td>Yes</td>\n",
       "      <td>Private</td>\n",
       "      <td>Urban</td>\n",
       "      <td>171.23</td>\n",
       "      <td>34.4</td>\n",
       "      <td>smokes</td>\n",
       "      <td>1</td>\n",
       "    </tr>\n",
       "    <tr>\n",
       "      <th>4</th>\n",
       "      <td>4</td>\n",
       "      <td>1665</td>\n",
       "      <td>Female</td>\n",
       "      <td>79.0</td>\n",
       "      <td>1</td>\n",
       "      <td>0</td>\n",
       "      <td>Yes</td>\n",
       "      <td>Self-employed</td>\n",
       "      <td>Rural</td>\n",
       "      <td>174.12</td>\n",
       "      <td>24.0</td>\n",
       "      <td>never smoked</td>\n",
       "      <td>1</td>\n",
       "    </tr>\n",
       "  </tbody>\n",
       "</table>\n",
       "</div>"
      ],
      "text/plain": [
       "   Unnamed: 0     id  gender   age  hypertension  heart_disease ever_married  \\\n",
       "0           0   9046    Male  67.0             0              1          Yes   \n",
       "1           1  51676  Female  61.0             0              0          Yes   \n",
       "2           2  31112    Male  80.0             0              1          Yes   \n",
       "3           3  60182  Female  49.0             0              0          Yes   \n",
       "4           4   1665  Female  79.0             1              0          Yes   \n",
       "\n",
       "       work_type Residence_type  avg_glucose_level   bmi   smoking_status  \\\n",
       "0        Private          Urban             228.69  36.6  formerly smoked   \n",
       "1  Self-employed          Rural             202.21   NaN     never smoked   \n",
       "2        Private          Rural             105.92  32.5     never smoked   \n",
       "3        Private          Urban             171.23  34.4           smokes   \n",
       "4  Self-employed          Rural             174.12  24.0     never smoked   \n",
       "\n",
       "   stroke  \n",
       "0       1  \n",
       "1       1  \n",
       "2       1  \n",
       "3       1  \n",
       "4       1  "
      ]
     },
     "execution_count": 26,
     "metadata": {},
     "output_type": "execute_result"
    }
   ],
   "source": [
    "df.head(5)"
   ]
  },
  {
   "cell_type": "code",
   "execution_count": 27,
   "metadata": {},
   "outputs": [
    {
     "data": {
      "text/html": [
       "<div>\n",
       "<style scoped>\n",
       "    .dataframe tbody tr th:only-of-type {\n",
       "        vertical-align: middle;\n",
       "    }\n",
       "\n",
       "    .dataframe tbody tr th {\n",
       "        vertical-align: top;\n",
       "    }\n",
       "\n",
       "    .dataframe thead th {\n",
       "        text-align: right;\n",
       "    }\n",
       "</style>\n",
       "<table border=\"1\" class=\"dataframe\">\n",
       "  <thead>\n",
       "    <tr style=\"text-align: right;\">\n",
       "      <th></th>\n",
       "      <th>Unnamed: 0</th>\n",
       "      <th>id</th>\n",
       "      <th>age</th>\n",
       "      <th>hypertension</th>\n",
       "      <th>heart_disease</th>\n",
       "      <th>avg_glucose_level</th>\n",
       "      <th>bmi</th>\n",
       "      <th>stroke</th>\n",
       "    </tr>\n",
       "  </thead>\n",
       "  <tbody>\n",
       "    <tr>\n",
       "      <th>count</th>\n",
       "      <td>5110.000000</td>\n",
       "      <td>5110.000000</td>\n",
       "      <td>5110.000000</td>\n",
       "      <td>5110.000000</td>\n",
       "      <td>5110.000000</td>\n",
       "      <td>5110.000000</td>\n",
       "      <td>4909.000000</td>\n",
       "      <td>5110.000000</td>\n",
       "    </tr>\n",
       "    <tr>\n",
       "      <th>mean</th>\n",
       "      <td>2554.500000</td>\n",
       "      <td>36517.829354</td>\n",
       "      <td>43.226614</td>\n",
       "      <td>0.097456</td>\n",
       "      <td>0.054012</td>\n",
       "      <td>106.147677</td>\n",
       "      <td>28.893237</td>\n",
       "      <td>0.048728</td>\n",
       "    </tr>\n",
       "    <tr>\n",
       "      <th>std</th>\n",
       "      <td>1475.274268</td>\n",
       "      <td>21161.721625</td>\n",
       "      <td>22.612647</td>\n",
       "      <td>0.296607</td>\n",
       "      <td>0.226063</td>\n",
       "      <td>45.283560</td>\n",
       "      <td>7.854067</td>\n",
       "      <td>0.215320</td>\n",
       "    </tr>\n",
       "    <tr>\n",
       "      <th>min</th>\n",
       "      <td>0.000000</td>\n",
       "      <td>67.000000</td>\n",
       "      <td>0.080000</td>\n",
       "      <td>0.000000</td>\n",
       "      <td>0.000000</td>\n",
       "      <td>55.120000</td>\n",
       "      <td>10.300000</td>\n",
       "      <td>0.000000</td>\n",
       "    </tr>\n",
       "    <tr>\n",
       "      <th>25%</th>\n",
       "      <td>1277.250000</td>\n",
       "      <td>17741.250000</td>\n",
       "      <td>25.000000</td>\n",
       "      <td>0.000000</td>\n",
       "      <td>0.000000</td>\n",
       "      <td>77.245000</td>\n",
       "      <td>23.500000</td>\n",
       "      <td>0.000000</td>\n",
       "    </tr>\n",
       "    <tr>\n",
       "      <th>50%</th>\n",
       "      <td>2554.500000</td>\n",
       "      <td>36932.000000</td>\n",
       "      <td>45.000000</td>\n",
       "      <td>0.000000</td>\n",
       "      <td>0.000000</td>\n",
       "      <td>91.885000</td>\n",
       "      <td>28.100000</td>\n",
       "      <td>0.000000</td>\n",
       "    </tr>\n",
       "    <tr>\n",
       "      <th>75%</th>\n",
       "      <td>3831.750000</td>\n",
       "      <td>54682.000000</td>\n",
       "      <td>61.000000</td>\n",
       "      <td>0.000000</td>\n",
       "      <td>0.000000</td>\n",
       "      <td>114.090000</td>\n",
       "      <td>33.100000</td>\n",
       "      <td>0.000000</td>\n",
       "    </tr>\n",
       "    <tr>\n",
       "      <th>max</th>\n",
       "      <td>5109.000000</td>\n",
       "      <td>72940.000000</td>\n",
       "      <td>82.000000</td>\n",
       "      <td>1.000000</td>\n",
       "      <td>1.000000</td>\n",
       "      <td>271.740000</td>\n",
       "      <td>97.600000</td>\n",
       "      <td>1.000000</td>\n",
       "    </tr>\n",
       "  </tbody>\n",
       "</table>\n",
       "</div>"
      ],
      "text/plain": [
       "        Unnamed: 0            id          age  hypertension  heart_disease  \\\n",
       "count  5110.000000   5110.000000  5110.000000   5110.000000    5110.000000   \n",
       "mean   2554.500000  36517.829354    43.226614      0.097456       0.054012   \n",
       "std    1475.274268  21161.721625    22.612647      0.296607       0.226063   \n",
       "min       0.000000     67.000000     0.080000      0.000000       0.000000   \n",
       "25%    1277.250000  17741.250000    25.000000      0.000000       0.000000   \n",
       "50%    2554.500000  36932.000000    45.000000      0.000000       0.000000   \n",
       "75%    3831.750000  54682.000000    61.000000      0.000000       0.000000   \n",
       "max    5109.000000  72940.000000    82.000000      1.000000       1.000000   \n",
       "\n",
       "       avg_glucose_level          bmi       stroke  \n",
       "count        5110.000000  4909.000000  5110.000000  \n",
       "mean          106.147677    28.893237     0.048728  \n",
       "std            45.283560     7.854067     0.215320  \n",
       "min            55.120000    10.300000     0.000000  \n",
       "25%            77.245000    23.500000     0.000000  \n",
       "50%            91.885000    28.100000     0.000000  \n",
       "75%           114.090000    33.100000     0.000000  \n",
       "max           271.740000    97.600000     1.000000  "
      ]
     },
     "execution_count": 27,
     "metadata": {},
     "output_type": "execute_result"
    }
   ],
   "source": [
    "df.describe()"
   ]
  },
  {
   "cell_type": "code",
   "execution_count": 28,
   "metadata": {},
   "outputs": [
    {
     "data": {
      "text/plain": [
       "Unnamed: 0             0\n",
       "id                     0\n",
       "gender                 0\n",
       "age                    0\n",
       "hypertension           0\n",
       "heart_disease          0\n",
       "ever_married           0\n",
       "work_type            258\n",
       "Residence_type         0\n",
       "avg_glucose_level      0\n",
       "bmi                  201\n",
       "smoking_status       247\n",
       "stroke                 0\n",
       "dtype: int64"
      ]
     },
     "execution_count": 28,
     "metadata": {},
     "output_type": "execute_result"
    }
   ],
   "source": [
    "df.isnull().sum()"
   ]
  },
  {
   "cell_type": "markdown",
   "metadata": {},
   "source": [
    "* Checking the dataset for the sum of missing data in repective columns"
   ]
  },
  {
   "cell_type": "code",
   "execution_count": 29,
   "metadata": {},
   "outputs": [],
   "source": [
    "#df.dropna(inplace=True)\n",
    "#df.info() "
   ]
  },
  {
   "cell_type": "code",
   "execution_count": 30,
   "metadata": {},
   "outputs": [],
   "source": [
    "#impude missing values\n",
    "#df['bmi'].fillna(df['bmi'].mean(), inplace=True)\n"
   ]
  },
  {
   "cell_type": "code",
   "execution_count": 31,
   "metadata": {},
   "outputs": [],
   "source": [
    "#df.bmi"
   ]
  },
  {
   "cell_type": "markdown",
   "metadata": {},
   "source": [
    "* Original thought process was to drop the rows with missing data "
   ]
  },
  {
   "cell_type": "code",
   "execution_count": 32,
   "metadata": {},
   "outputs": [
    {
     "data": {
      "text/html": [
       "<div>\n",
       "<style scoped>\n",
       "    .dataframe tbody tr th:only-of-type {\n",
       "        vertical-align: middle;\n",
       "    }\n",
       "\n",
       "    .dataframe tbody tr th {\n",
       "        vertical-align: top;\n",
       "    }\n",
       "\n",
       "    .dataframe thead th {\n",
       "        text-align: right;\n",
       "    }\n",
       "</style>\n",
       "<table border=\"1\" class=\"dataframe\">\n",
       "  <thead>\n",
       "    <tr style=\"text-align: right;\">\n",
       "      <th></th>\n",
       "      <th>Unnamed: 0</th>\n",
       "      <th>id</th>\n",
       "      <th>age</th>\n",
       "      <th>hypertension</th>\n",
       "      <th>heart_disease</th>\n",
       "      <th>avg_glucose_level</th>\n",
       "      <th>bmi</th>\n",
       "      <th>stroke</th>\n",
       "      <th>gender_Male</th>\n",
       "      <th>gender_Other</th>\n",
       "      <th>...</th>\n",
       "      <th>work_type_Never_worked</th>\n",
       "      <th>work_type_Private</th>\n",
       "      <th>work_type_Self-employed</th>\n",
       "      <th>work_type_children</th>\n",
       "      <th>work_type_govt job</th>\n",
       "      <th>Residence_type_Urban</th>\n",
       "      <th>smoking_status_formerly smoked</th>\n",
       "      <th>smoking_status_formerly_smoked</th>\n",
       "      <th>smoking_status_never smoked</th>\n",
       "      <th>smoking_status_smokes</th>\n",
       "    </tr>\n",
       "  </thead>\n",
       "  <tbody>\n",
       "    <tr>\n",
       "      <th>0</th>\n",
       "      <td>0</td>\n",
       "      <td>9046</td>\n",
       "      <td>1.051434</td>\n",
       "      <td>0</td>\n",
       "      <td>1</td>\n",
       "      <td>2.706375</td>\n",
       "      <td>1.001234e+00</td>\n",
       "      <td>1</td>\n",
       "      <td>True</td>\n",
       "      <td>False</td>\n",
       "      <td>...</td>\n",
       "      <td>False</td>\n",
       "      <td>True</td>\n",
       "      <td>False</td>\n",
       "      <td>False</td>\n",
       "      <td>False</td>\n",
       "      <td>True</td>\n",
       "      <td>True</td>\n",
       "      <td>False</td>\n",
       "      <td>False</td>\n",
       "      <td>False</td>\n",
       "    </tr>\n",
       "    <tr>\n",
       "      <th>1</th>\n",
       "      <td>1</td>\n",
       "      <td>51676</td>\n",
       "      <td>0.786070</td>\n",
       "      <td>0</td>\n",
       "      <td>0</td>\n",
       "      <td>2.121559</td>\n",
       "      <td>4.615554e-16</td>\n",
       "      <td>1</td>\n",
       "      <td>False</td>\n",
       "      <td>False</td>\n",
       "      <td>...</td>\n",
       "      <td>False</td>\n",
       "      <td>False</td>\n",
       "      <td>True</td>\n",
       "      <td>False</td>\n",
       "      <td>False</td>\n",
       "      <td>False</td>\n",
       "      <td>False</td>\n",
       "      <td>False</td>\n",
       "      <td>True</td>\n",
       "      <td>False</td>\n",
       "    </tr>\n",
       "    <tr>\n",
       "      <th>2</th>\n",
       "      <td>2</td>\n",
       "      <td>31112</td>\n",
       "      <td>1.626390</td>\n",
       "      <td>0</td>\n",
       "      <td>1</td>\n",
       "      <td>-0.005028</td>\n",
       "      <td>4.685773e-01</td>\n",
       "      <td>1</td>\n",
       "      <td>True</td>\n",
       "      <td>False</td>\n",
       "      <td>...</td>\n",
       "      <td>False</td>\n",
       "      <td>True</td>\n",
       "      <td>False</td>\n",
       "      <td>False</td>\n",
       "      <td>False</td>\n",
       "      <td>False</td>\n",
       "      <td>False</td>\n",
       "      <td>False</td>\n",
       "      <td>True</td>\n",
       "      <td>False</td>\n",
       "    </tr>\n",
       "    <tr>\n",
       "      <th>3</th>\n",
       "      <td>3</td>\n",
       "      <td>60182</td>\n",
       "      <td>0.255342</td>\n",
       "      <td>0</td>\n",
       "      <td>0</td>\n",
       "      <td>1.437358</td>\n",
       "      <td>7.154182e-01</td>\n",
       "      <td>1</td>\n",
       "      <td>False</td>\n",
       "      <td>False</td>\n",
       "      <td>...</td>\n",
       "      <td>False</td>\n",
       "      <td>True</td>\n",
       "      <td>False</td>\n",
       "      <td>False</td>\n",
       "      <td>False</td>\n",
       "      <td>True</td>\n",
       "      <td>False</td>\n",
       "      <td>False</td>\n",
       "      <td>False</td>\n",
       "      <td>True</td>\n",
       "    </tr>\n",
       "    <tr>\n",
       "      <th>4</th>\n",
       "      <td>4</td>\n",
       "      <td>1665</td>\n",
       "      <td>1.582163</td>\n",
       "      <td>1</td>\n",
       "      <td>0</td>\n",
       "      <td>1.501184</td>\n",
       "      <td>-6.357112e-01</td>\n",
       "      <td>1</td>\n",
       "      <td>False</td>\n",
       "      <td>False</td>\n",
       "      <td>...</td>\n",
       "      <td>False</td>\n",
       "      <td>False</td>\n",
       "      <td>True</td>\n",
       "      <td>False</td>\n",
       "      <td>False</td>\n",
       "      <td>False</td>\n",
       "      <td>False</td>\n",
       "      <td>False</td>\n",
       "      <td>True</td>\n",
       "      <td>False</td>\n",
       "    </tr>\n",
       "  </tbody>\n",
       "</table>\n",
       "<p>5 rows × 25 columns</p>\n",
       "</div>"
      ],
      "text/plain": [
       "   Unnamed: 0     id       age  hypertension  heart_disease  \\\n",
       "0           0   9046  1.051434             0              1   \n",
       "1           1  51676  0.786070             0              0   \n",
       "2           2  31112  1.626390             0              1   \n",
       "3           3  60182  0.255342             0              0   \n",
       "4           4   1665  1.582163             1              0   \n",
       "\n",
       "   avg_glucose_level           bmi  stroke  gender_Male  gender_Other  ...  \\\n",
       "0           2.706375  1.001234e+00       1         True         False  ...   \n",
       "1           2.121559  4.615554e-16       1        False         False  ...   \n",
       "2          -0.005028  4.685773e-01       1         True         False  ...   \n",
       "3           1.437358  7.154182e-01       1        False         False  ...   \n",
       "4           1.501184 -6.357112e-01       1        False         False  ...   \n",
       "\n",
       "   work_type_Never_worked  work_type_Private  work_type_Self-employed  \\\n",
       "0                   False               True                    False   \n",
       "1                   False              False                     True   \n",
       "2                   False               True                    False   \n",
       "3                   False               True                    False   \n",
       "4                   False              False                     True   \n",
       "\n",
       "   work_type_children  work_type_govt job  Residence_type_Urban  \\\n",
       "0               False               False                  True   \n",
       "1               False               False                 False   \n",
       "2               False               False                 False   \n",
       "3               False               False                  True   \n",
       "4               False               False                 False   \n",
       "\n",
       "   smoking_status_formerly smoked  smoking_status_formerly_smoked  \\\n",
       "0                            True                           False   \n",
       "1                           False                           False   \n",
       "2                           False                           False   \n",
       "3                           False                           False   \n",
       "4                           False                           False   \n",
       "\n",
       "   smoking_status_never smoked  smoking_status_smokes  \n",
       "0                        False                  False  \n",
       "1                         True                  False  \n",
       "2                         True                  False  \n",
       "3                        False                   True  \n",
       "4                         True                  False  \n",
       "\n",
       "[5 rows x 25 columns]"
      ]
     },
     "execution_count": 32,
     "metadata": {},
     "output_type": "execute_result"
    }
   ],
   "source": [
    "#fill missing values with mode\n",
    "#df['bmi'].fillna(df['bmi'].mode()[0], inplace=True)\n",
    "#df.fillna({'bmi': df['bmi'].mode()[0]}, inplace=True)\n",
    "df['bmi'] = df['bmi'].fillna(df['bmi'].mean())\n",
    "\n",
    "\n",
    "\n",
    "#convert categorical data to numerical\n",
    "df = pd.get_dummies(df, drop_first=True)\n",
    "\n",
    "#Normalize numerical features using StandardScaler\n",
    "scaler = StandardScaler()\n",
    "df[['age', 'avg_glucose_level', 'bmi']] = scaler.fit_transform(df[['age', 'avg_glucose_level', 'bmi']])\n",
    "df.head(5)"
   ]
  },
  {
   "cell_type": "markdown",
   "metadata": {},
   "source": [
    "* Fill the missing data with the mean of the cumulative data\n",
    "\n",
    "* Handling missing values, converting the variables and normailzed numerical features."
   ]
  },
  {
   "cell_type": "code",
   "execution_count": 33,
   "metadata": {},
   "outputs": [
    {
     "data": {
      "text/plain": [
       "Unnamed: 0                        0\n",
       "id                                0\n",
       "age                               0\n",
       "hypertension                      0\n",
       "heart_disease                     0\n",
       "avg_glucose_level                 0\n",
       "bmi                               0\n",
       "stroke                            0\n",
       "gender_Male                       0\n",
       "gender_Other                      0\n",
       "gender_female                     0\n",
       "gender_m                          0\n",
       "ever_married_Yes                  0\n",
       "ever_married_no                   0\n",
       "ever_married_yes                  0\n",
       "work_type_Never_worked            0\n",
       "work_type_Private                 0\n",
       "work_type_Self-employed           0\n",
       "work_type_children                0\n",
       "work_type_govt job                0\n",
       "Residence_type_Urban              0\n",
       "smoking_status_formerly smoked    0\n",
       "smoking_status_formerly_smoked    0\n",
       "smoking_status_never smoked       0\n",
       "smoking_status_smokes             0\n",
       "dtype: int64"
      ]
     },
     "execution_count": 33,
     "metadata": {},
     "output_type": "execute_result"
    }
   ],
   "source": [
    "df.isnull().sum()"
   ]
  },
  {
   "cell_type": "code",
   "execution_count": 34,
   "metadata": {},
   "outputs": [],
   "source": [
    "pca = PCA(n_components=0.95)\n",
    "df_pca = pca.fit_transform(df)"
   ]
  },
  {
   "cell_type": "code",
   "execution_count": 35,
   "metadata": {},
   "outputs": [
    {
     "data": {
      "text/plain": [
       "(              0\n",
       " 0  27474.465607\n",
       " 1 -15155.512473\n",
       " 2   5408.475414\n",
       " 3 -23661.509969\n",
       " 4  34855.457482,\n",
       " (5110, 1))"
      ]
     },
     "execution_count": 35,
     "metadata": {},
     "output_type": "execute_result"
    }
   ],
   "source": [
    "df_pca = pd.DataFrame(df_pca)\n",
    "df_pca.head(5), df_pca.shape\n"
   ]
  },
  {
   "cell_type": "markdown",
   "metadata": {},
   "source": [
    "* Shaping the data and using pca to classify the data\n"
   ]
  },
  {
   "cell_type": "markdown",
   "metadata": {},
   "source": [
    "# Binary Classification"
   ]
  },
  {
   "cell_type": "code",
   "execution_count": 36,
   "metadata": {},
   "outputs": [],
   "source": [
    "X = df.drop('stroke', axis=1)\n",
    "y = df['stroke']\n",
    "\n",
    "X_train, X_test, y_train, y_test = train_test_split(X, y, test_size=0.2, random_state=42)"
   ]
  },
  {
   "cell_type": "markdown",
   "metadata": {},
   "source": [
    "* Split the Dataset: Divide the dataset into features (X) and the target variable (y). Then, split the data into training and testing sets."
   ]
  },
  {
   "cell_type": "code",
   "execution_count": 37,
   "metadata": {},
   "outputs": [
    {
     "data": {
      "text/plain": [
       "(      Unnamed: 0     id       age  hypertension  heart_disease  \\\n",
       " 0              0   9046  1.051434             0              1   \n",
       " 1              1  51676  0.786070             0              0   \n",
       " 2              2  31112  1.626390             0              1   \n",
       " 3              3  60182  0.255342             0              0   \n",
       " 4              4   1665  1.582163             1              0   \n",
       " ...          ...    ...       ...           ...            ...   \n",
       " 5105        5105  18234  1.626390             1              0   \n",
       " 5106        5106  44873  1.670617             0              0   \n",
       " 5107        5107  19723 -0.363842             0              0   \n",
       " 5108        5108  37544  0.343796             0              0   \n",
       " 5109        5109  44679  0.034205             0              0   \n",
       " \n",
       "       avg_glucose_level           bmi  gender_Male  gender_Other  \\\n",
       " 0              2.706375  1.001234e+00         True         False   \n",
       " 1              2.121559  4.615554e-16        False         False   \n",
       " 2             -0.005028  4.685773e-01         True         False   \n",
       " 3              1.437358  7.154182e-01        False         False   \n",
       " 4              1.501184 -6.357112e-01        False         False   \n",
       " ...                 ...           ...          ...           ...   \n",
       " 5105          -0.494658  4.615554e-16        False         False   \n",
       " 5106           0.420775  1.442949e+00        False         False   \n",
       " 5107          -0.511443  2.217363e-01        False         False   \n",
       " 5108           1.328257 -4.278451e-01         True         False   \n",
       " 5109          -0.460867 -3.498953e-01        False         False   \n",
       " \n",
       "       gender_female  ...  work_type_Never_worked  work_type_Private  \\\n",
       " 0             False  ...                   False               True   \n",
       " 1             False  ...                   False              False   \n",
       " 2             False  ...                   False               True   \n",
       " 3             False  ...                   False               True   \n",
       " 4             False  ...                   False              False   \n",
       " ...             ...  ...                     ...                ...   \n",
       " 5105          False  ...                   False               True   \n",
       " 5106          False  ...                   False              False   \n",
       " 5107          False  ...                   False              False   \n",
       " 5108          False  ...                   False               True   \n",
       " 5109          False  ...                   False              False   \n",
       " \n",
       "       work_type_Self-employed  work_type_children  work_type_govt job  \\\n",
       " 0                       False               False               False   \n",
       " 1                        True               False               False   \n",
       " 2                       False               False               False   \n",
       " 3                       False               False               False   \n",
       " 4                        True               False               False   \n",
       " ...                       ...                 ...                 ...   \n",
       " 5105                    False               False               False   \n",
       " 5106                     True               False               False   \n",
       " 5107                     True               False               False   \n",
       " 5108                    False               False               False   \n",
       " 5109                    False               False               False   \n",
       " \n",
       "       Residence_type_Urban  smoking_status_formerly smoked  \\\n",
       " 0                     True                            True   \n",
       " 1                    False                           False   \n",
       " 2                    False                           False   \n",
       " 3                     True                           False   \n",
       " 4                    False                           False   \n",
       " ...                    ...                             ...   \n",
       " 5105                  True                           False   \n",
       " 5106                  True                           False   \n",
       " 5107                 False                           False   \n",
       " 5108                 False                            True   \n",
       " 5109                  True                           False   \n",
       " \n",
       "       smoking_status_formerly_smoked  smoking_status_never smoked  \\\n",
       " 0                              False                        False   \n",
       " 1                              False                         True   \n",
       " 2                              False                         True   \n",
       " 3                              False                        False   \n",
       " 4                              False                         True   \n",
       " ...                              ...                          ...   \n",
       " 5105                           False                         True   \n",
       " 5106                           False                         True   \n",
       " 5107                           False                         True   \n",
       " 5108                           False                        False   \n",
       " 5109                           False                        False   \n",
       " \n",
       "       smoking_status_smokes  \n",
       " 0                     False  \n",
       " 1                     False  \n",
       " 2                     False  \n",
       " 3                      True  \n",
       " 4                     False  \n",
       " ...                     ...  \n",
       " 5105                  False  \n",
       " 5106                  False  \n",
       " 5107                  False  \n",
       " 5108                  False  \n",
       " 5109                  False  \n",
       " \n",
       " [5110 rows x 24 columns],\n",
       " 0       1\n",
       " 1       1\n",
       " 2       1\n",
       " 3       1\n",
       " 4       1\n",
       "        ..\n",
       " 5105    0\n",
       " 5106    0\n",
       " 5107    0\n",
       " 5108    0\n",
       " 5109    0\n",
       " Name: stroke, Length: 5110, dtype: int64)"
      ]
     },
     "execution_count": 37,
     "metadata": {},
     "output_type": "execute_result"
    }
   ],
   "source": [
    "X, y"
   ]
  },
  {
   "cell_type": "markdown",
   "metadata": {},
   "source": [
    "# Trainig and Evaluation of the model \n"
   ]
  },
  {
   "cell_type": "code",
   "execution_count": 38,
   "metadata": {},
   "outputs": [
    {
     "name": "stdout",
     "output_type": "stream",
     "text": [
      "Random Forest accuracy:  0.9990215264187867\n"
     ]
    }
   ],
   "source": [
    "rf = RandomForestClassifier(n_estimators=100, random_state=42)\n",
    "rf.fit(X_train, y_train)\n",
    "\n",
    "y_pred_rf = rf.predict(X_test)\n",
    "\n",
    "print(\"Random Forest accuracy: \", accuracy_score(y_test, y_pred_rf))\n"
   ]
  },
  {
   "cell_type": "markdown",
   "metadata": {},
   "source": [
    "* This is an extremely high accuracy score, indicating that the model is very good at correctly classifying instances."
   ]
  },
  {
   "cell_type": "code",
   "execution_count": 39,
   "metadata": {},
   "outputs": [
    {
     "name": "stdout",
     "output_type": "stream",
     "text": [
      "Random Forest F1 Score:  0.991869918699187\n"
     ]
    }
   ],
   "source": [
    "print(\"Random Forest F1 Score: \", f1_score(y_test, y_pred_rf))"
   ]
  },
  {
   "cell_type": "markdown",
   "metadata": {},
   "source": [
    "* The F1 score is a balance between precision and recall, and a high F1 score indicates that the model is performing well in both aspects."
   ]
  },
  {
   "cell_type": "code",
   "execution_count": 40,
   "metadata": {},
   "outputs": [
    {
     "name": "stdout",
     "output_type": "stream",
     "text": [
      "Random Forest Precision:  1.0\n"
     ]
    }
   ],
   "source": [
    "print(\"Random Forest Precision: \", precision_score(y_test, y_pred_rf))"
   ]
  },
  {
   "cell_type": "markdown",
   "metadata": {},
   "source": [
    "* Precision is the ratio of correctly predicted positive observations to the total predicted positives. A precision of 1.0 means that every positive prediction made by the model is correct."
   ]
  },
  {
   "cell_type": "code",
   "execution_count": 41,
   "metadata": {},
   "outputs": [
    {
     "name": "stdout",
     "output_type": "stream",
     "text": [
      "              precision    recall  f1-score   support\n",
      "\n",
      "           0       1.00      1.00      1.00       960\n",
      "           1       1.00      0.98      0.99        62\n",
      "\n",
      "    accuracy                           1.00      1022\n",
      "   macro avg       1.00      0.99      1.00      1022\n",
      "weighted avg       1.00      1.00      1.00      1022\n",
      "\n"
     ]
    }
   ],
   "source": [
    "print(classification_report(y_test, y_pred_rf))"
   ]
  },
  {
   "cell_type": "markdown",
   "metadata": {},
   "source": [
    "* Class 0 (No Stroke): The model has perfect precision, recall, and F1 score, indicating that it correctly identifies all instances of the negative class without any false positives or false negatives.\n",
    "\n",
    "* Class 1 (Stroke): The model has a slightly lower precision and recall but still very high values, indicating that it is very good at identifying the positive class. The recall is slightly lower than precision, suggesting that the model might be missing some instances of the positive class."
   ]
  },
  {
   "cell_type": "code",
   "execution_count": 42,
   "metadata": {},
   "outputs": [
    {
     "data": {
      "image/png": "[encoded data removed]",
      "text/plain": [
       "<Figure size 640x480 with 2 Axes>"
      ]
     },
     "metadata": {},
     "output_type": "display_data"
    }
   ],
   "source": [
    "plot = sns.heatmap(confusion_matrix(y_test, y_pred_rf), annot=True, fmt='g')"
   ]
  },
  {
   "cell_type": "markdown",
   "metadata": {},
   "source": [
    "* The confusion matrix shows that the model correctly classified 960 instances of the negative class and 61 instances of the positive class, with only 1 false positive (a patient without a stroke incorrectly identified as having a stroke)."
   ]
  },
  {
   "cell_type": "markdown",
   "metadata": {},
   "source": [
    "# KNN"
   ]
  },
  {
   "cell_type": "code",
   "execution_count": 43,
   "metadata": {},
   "outputs": [],
   "source": [
    "cv_score = []\n",
    "for k in range(1, 31):\n",
    "    knn = KNeighborsClassifier(n_neighbors=k)\n",
    "    scores = cross_val_score(knn, X, y, cv=10, scoring='accuracy')\n",
    "    cv_score.append(scores.mean())"
   ]
  },
  {
   "cell_type": "code",
   "execution_count": 44,
   "metadata": {},
   "outputs": [
    {
     "data": {
      "image/png": "[encoded data removed]",
      "text/plain": [
       "<Figure size 640x480 with 1 Axes>"
      ]
     },
     "metadata": {},
     "output_type": "display_data"
    }
   ],
   "source": [
    "plt.plot(range(1, 31), cv_score)\n",
    "plt.title('KNN Cross Validation Score')\n",
    "plt.xlabel('Number of Neighbors')\n",
    "plt.ylabel('Accuracy')\n",
    "plt.show()"
   ]
  },
  {
   "cell_type": "code",
   "execution_count": 45,
   "metadata": {},
   "outputs": [
    {
     "name": "stdout",
     "output_type": "stream",
     "text": [
      "KNN accuracy:  0.9393346379647749\n"
     ]
    }
   ],
   "source": [
    "optimal_k = cv_score.index(max(cv_score)) + 1\n",
    "\n",
    "knn = KNeighborsClassifier(n_neighbors=optimal_k)\n",
    "knn.fit(X_train, y_train)\n",
    "\n",
    "y_pred_knn = knn.predict(X_test)\n",
    "print(\"KNN accuracy: \", accuracy_score(y_test, y_pred_knn))"
   ]
  },
  {
   "cell_type": "markdown",
   "metadata": {},
   "source": [
    "* This indicates that the Random Forest model is very accurate in its predictions, with almost all instances being correctly classified."
   ]
  },
  {
   "cell_type": "code",
   "execution_count": 46,
   "metadata": {},
   "outputs": [
    {
     "name": "stdout",
     "output_type": "stream",
     "text": [
      "              precision    recall  f1-score   support\n",
      "\n",
      "           0       0.94      1.00      0.97       960\n",
      "           1       0.00      0.00      0.00        62\n",
      "\n",
      "    accuracy                           0.94      1022\n",
      "   macro avg       0.47      0.50      0.48      1022\n",
      "weighted avg       0.88      0.94      0.91      1022\n",
      "\n"
     ]
    },
    {
     "name": "stderr",
     "output_type": "stream",
     "text": [
      "c:\\Users\\jmitc\\anaconda3\\envs\\Assignment\\Lib\\site-packages\\sklearn\\metrics\\_classification.py:1509: UndefinedMetricWarning: Precision is ill-defined and being set to 0.0 in labels with no predicted samples. Use `zero_division` parameter to control this behavior.\n",
      "  _warn_prf(average, modifier, f\"{metric.capitalize()} is\", len(result))\n",
      "c:\\Users\\jmitc\\anaconda3\\envs\\Assignment\\Lib\\site-packages\\sklearn\\metrics\\_classification.py:1509: UndefinedMetricWarning: Precision is ill-defined and being set to 0.0 in labels with no predicted samples. Use `zero_division` parameter to control this behavior.\n",
      "  _warn_prf(average, modifier, f\"{metric.capitalize()} is\", len(result))\n",
      "c:\\Users\\jmitc\\anaconda3\\envs\\Assignment\\Lib\\site-packages\\sklearn\\metrics\\_classification.py:1509: UndefinedMetricWarning: Precision is ill-defined and being set to 0.0 in labels with no predicted samples. Use `zero_division` parameter to control this behavior.\n",
      "  _warn_prf(average, modifier, f\"{metric.capitalize()} is\", len(result))\n"
     ]
    }
   ],
   "source": [
    "print(classification_report(y_test, y_pred_knn))"
   ]
  },
  {
   "cell_type": "code",
   "execution_count": 47,
   "metadata": {},
   "outputs": [
    {
     "name": "stdout",
     "output_type": "stream",
     "text": [
      "Random Forest Accuracy: 0.9990215264187867\n",
      "KNN Accuracy: 0.9393346379647749\n",
      "Random Forest Classification Report:               precision    recall  f1-score   support\n",
      "\n",
      "           0       1.00      1.00      1.00       960\n",
      "           1       1.00      0.98      0.99        62\n",
      "\n",
      "    accuracy                           1.00      1022\n",
      "   macro avg       1.00      0.99      1.00      1022\n",
      "weighted avg       1.00      1.00      1.00      1022\n",
      "\n",
      "KNN Classification Report:               precision    recall  f1-score   support\n",
      "\n",
      "           0       0.94      1.00      0.97       960\n",
      "           1       0.00      0.00      0.00        62\n",
      "\n",
      "    accuracy                           0.94      1022\n",
      "   macro avg       0.47      0.50      0.48      1022\n",
      "weighted avg       0.88      0.94      0.91      1022\n",
      "\n",
      "Random Forest Confusion Matrix: [[960   0]\n",
      " [  1  61]]\n",
      "KNN Confusion Matrix: [[960   0]\n",
      " [ 62   0]]\n"
     ]
    },
    {
     "name": "stderr",
     "output_type": "stream",
     "text": [
      "c:\\Users\\jmitc\\anaconda3\\envs\\Assignment\\Lib\\site-packages\\sklearn\\metrics\\_classification.py:1509: UndefinedMetricWarning: Precision is ill-defined and being set to 0.0 in labels with no predicted samples. Use `zero_division` parameter to control this behavior.\n",
      "  _warn_prf(average, modifier, f\"{metric.capitalize()} is\", len(result))\n",
      "c:\\Users\\jmitc\\anaconda3\\envs\\Assignment\\Lib\\site-packages\\sklearn\\metrics\\_classification.py:1509: UndefinedMetricWarning: Precision is ill-defined and being set to 0.0 in labels with no predicted samples. Use `zero_division` parameter to control this behavior.\n",
      "  _warn_prf(average, modifier, f\"{metric.capitalize()} is\", len(result))\n",
      "c:\\Users\\jmitc\\anaconda3\\envs\\Assignment\\Lib\\site-packages\\sklearn\\metrics\\_classification.py:1509: UndefinedMetricWarning: Precision is ill-defined and being set to 0.0 in labels with no predicted samples. Use `zero_division` parameter to control this behavior.\n",
      "  _warn_prf(average, modifier, f\"{metric.capitalize()} is\", len(result))\n"
     ]
    }
   ],
   "source": [
    "print(\"Random Forest Accuracy:\", accuracy_score(y_test, y_pred_rf))\n",
    "print(\"KNN Accuracy:\", accuracy_score(y_test, y_pred_knn))\n",
    "\n",
    "print(\"Random Forest Classification Report:\", classification_report(y_test, y_pred_rf))\n",
    "print(\"KNN Classification Report:\", classification_report(y_test, y_pred_knn))\n",
    "\n",
    "print(\"Random Forest Confusion Matrix:\", confusion_matrix(y_test, y_pred_rf))\n",
    "print(\"KNN Confusion Matrix:\", confusion_matrix(y_test, y_pred_knn))"
   ]
  },
  {
   "cell_type": "markdown",
   "metadata": {},
   "source": [
    "* Performance Difference: The Random Forest model significantly outperforms the KNN model in terms of accuracy, precision, recall, and F1 score. This suggests that the Random Forest model is more effective at classifying instances in this dataset.\n",
    "\n",
    "* Class Imbalance: The KNN model's performance metrics for the positive class (stroke) are perfect, indicating that it is very good at identifying instances of the positive class. However, the negative class (no stroke) has a precision of 0.94, which is slightly lower than the perfect score for the positive class. This could suggest a class imbalance in the dataset, where the positive class is significantly more common than the negative class.\n",
    "\n",
    "* Model Choice: Given the high accuracy and performance metrics of the Random Forest model, it would be the preferred choice for this dataset. The KNN model's performance is still high, but the Random Forest model's superior performance suggests it is more effective for this specific task."
   ]
  },
  {
   "cell_type": "markdown",
   "metadata": {},
   "source": [
    "# Recommendations for improvement\n",
    "* Hyperparameter Tuning for KNN: The KNN model's poor performance suggests that the number of neighbors used might not be optimal. Consider using techniques like grid search or random search to find the best value for the number of neighbors. This can improve the model's ability to generalize and reduce overfitting.\n",
    "\n",
    "* Model Comparison and Ensembling: Since the Random Forest model performs significantly better than the KNN model, consider using ensemble methods to combine the predictions of both models. This can help improve the overall performance and robustness of the predictions.\n",
    "\n",
    "* Addressing Class Imbalance: If the dataset is imbalanced, consider using techniques like oversampling the minority class, undersampling the majority class, or using class weights to give more importance to the minority class during training. This can help improve the model's performance on the minority class.\n",
    "\n"
   ]
  },
  {
   "cell_type": "markdown",
   "metadata": {},
   "source": [
    "# Part C"
   ]
  },
  {
   "cell_type": "code",
   "execution_count": 48,
   "metadata": {},
   "outputs": [
    {
     "data": {
      "image/png": "[encoded data removed]",
      "text/plain": [
       "<Figure size 640x480 with 1 Axes>"
      ]
     },
     "metadata": {},
     "output_type": "display_data"
    }
   ],
   "source": [
    "wc = []\n",
    "for i in range(1, 31):\n",
    "    kmeans = KMeans(n_clusters=i, random_state=42)\n",
    "    kmeans.fit(X)\n",
    "    wc.append(kmeans.inertia_)\n",
    "plt.plot(range(1, 31), wc)\n",
    "plt.title('Elbow Method')\n",
    "plt.xlabel('Number of clusters')\n",
    "plt.ylabel('WCSS')\n",
    "plt.show()"
   ]
  },
  {
   "cell_type": "markdown",
   "metadata": {},
   "source": [
    "* Use the Elbow Method to find the optimal number of clusters. This method involves plotting the sum of squared distances (inertia) for different values of k and looking for an \"elbow\" point where the rate of decrease sharply shifts.\n"
   ]
  },
  {
   "cell_type": "code",
   "execution_count": 49,
   "metadata": {},
   "outputs": [
    {
     "data": {
      "text/plain": [
       "array([ 9, 10,  3, ...,  6,  7,  1])"
      ]
     },
     "execution_count": 49,
     "metadata": {},
     "output_type": "execute_result"
    }
   ],
   "source": [
    "kmeans = KMeans(n_clusters = optimal_k, init='k-means++', max_iter=300, n_init=10, random_state=0)\n",
    "pred_ykmean = kmeans.fit_predict(X) \n",
    "pred_ykmean"
   ]
  },
  {
   "cell_type": "code",
   "execution_count": 51,
   "metadata": {},
   "outputs": [
    {
     "name": "stdout",
     "output_type": "stream",
     "text": [
      "Before OverSampling, counts of label '1': 187\n",
      "Before OverSampling, counts of label '0': 3901 \n",
      "\n",
      "After OverSampling, the shape of train_X: (7802, 24)\n",
      "After OverSampling, the shape of train_y: (7802,) \n",
      "\n",
      "After OverSampling, counts of label '1': 3901\n",
      "After OverSampling, counts of label '0': 3901\n"
     ]
    },
    {
     "name": "stderr",
     "output_type": "stream",
     "text": [
      "C:\\Users\\jmitc\\AppData\\Local\\Temp\\ipykernel_20244\\3967326550.py:5: FutureWarning: Series.ravel is deprecated. The underlying array is already 1D, so ravel is not necessary.  Use `to_numpy()` for conversion to a numpy array instead.\n",
      "  X_train_res, y_train_res = sm.fit_resample(X_train, y_train.ravel())\n"
     ]
    }
   ],
   "source": [
    "print(\"Before OverSampling, counts of label '1': {}\".format(sum(y_train == 1)))\n",
    "print(\"Before OverSampling, counts of label '0': {} \\n\".format(sum(y_train == 0)))\n",
    "\n",
    "sm = SMOTE(random_state=42)\n",
    "X_train_res, y_train_res = sm.fit_resample(X_train, y_train.ravel())\n",
    "\n",
    "print('After OverSampling, the shape of train_X: {}'.format(X_train_res.shape))\n",
    "print('After OverSampling, the shape of train_y: {} \\n'.format(y_train_res.shape))\n",
    "\n",
    "print(\"After OverSampling, counts of label '1': {}\".format(sum(y_train_res == 1)))\n",
    "print(\"After OverSampling, counts of label '0': {}\".format(sum(y_train_res == 0)))"
   ]
  },
  {
   "cell_type": "code",
   "execution_count": 54,
   "metadata": {},
   "outputs": [
    {
     "data": {
      "text/plain": [
       "array([[908,  52],\n",
       "       [  9,  53]], dtype=int64)"
      ]
     },
     "execution_count": 54,
     "metadata": {},
     "output_type": "execute_result"
    }
   ],
   "source": [
    "lf_smot = LogisticRegression(max_iter=1000, random_state=42, solver='saga')\n",
    "lf_smot.fit(X_train_res, y_train_res)\n",
    "ypred_smot = lf_smot.predict(X_test)\n",
    "confusion_matrix(y_test, ypred_smot)"
   ]
  }
 ],
 "metadata": {
  "kernelspec": {
   "display_name": "Assignment",
   "language": "python",
   "name": "python3"
  },
  "language_info": {
   "codemirror_mode": {
    "name": "ipython",
    "version": 3
   },
   "file_extension": ".py",
   "mimetype": "text/x-python",
   "name": "python",
   "nbconvert_exporter": "python",
   "pygments_lexer": "ipython3",
   "version": "3.12.1"
  }
 },
 "nbformat": 4,
 "nbformat_minor": 2
}
